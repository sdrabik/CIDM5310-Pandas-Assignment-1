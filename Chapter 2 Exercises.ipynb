{
 "cells": [
  {
   "cell_type": "code",
   "execution_count": 1,
   "id": "b1d49d02",
   "metadata": {},
   "outputs": [
    {
     "name": "stdout",
     "output_type": "stream",
     "text": [
      "95 percentile - Japan - mb: 4.9\n"
     ]
    }
   ],
   "source": [
    "#1\n",
    "# Find the 95th percentile of earthquake magnitude in Japan using the mb magnitude type.\n",
    "\n",
    "import pandas\n",
    "df = pandas .read_csv('D:/Files/Desktop/School/Molin Files/WIP/Hands-On-Data-Analysis-with-Pandas-2nd-edition-master/ch_02/data/parsed.csv')\n",
    "\n",
    "\n",
    "q1 = df[(df.magType == 'mb') & (df.parsed_place == 'Japan')].mag.quantile(0.95)\n",
    "\n",
    "print (f\"95 percentile - Japan - mb: {q1}\")      "
   ]
  },
  {
   "cell_type": "code",
   "execution_count": 2,
   "id": "b4eca2d5",
   "metadata": {},
   "outputs": [
    {
     "name": "stdout",
     "output_type": "stream",
     "text": [
      "Percentage of earthquakes with tsunamis in Indonesia 23.13%\n"
     ]
    }
   ],
   "source": [
    "#2\n",
    "#Find the percentage of earthquakes in Indonesia that were coupled with tsunamis.\n",
    "\n",
    "\n",
    "q2 = df[df.parsed_place == 'Indonesia'].tsunami.value_counts(normalize=True).iloc[1,]\n",
    "q2 = \"{:.2%}\".format(q2)\n",
    "\n",
    "print (f\"Percentage of earthquakes with tsunamis in Indonesia {q2}\") \n"
   ]
  },
  {
   "cell_type": "code",
   "execution_count": 3,
   "id": "1ff3563f",
   "metadata": {},
   "outputs": [
    {
     "name": "stdout",
     "output_type": "stream",
     "text": [
      "             cdi        dmin       felt         gap         mag   mmi  \\\n",
      "count  15.000000  681.000000  15.000000  681.000000  681.000000  1.00   \n",
      "mean    2.440000    0.166199   2.400000  153.668120    0.500073  2.84   \n",
      "std     0.501142    0.166228   4.626013   68.735302    0.696710   NaN   \n",
      "min     2.000000    0.001000   1.000000   29.140000   -0.500000  2.84   \n",
      "25%     2.000000    0.053000   1.000000   97.380000   -0.100000  2.84   \n",
      "50%     2.200000    0.112000   1.000000  149.140000    0.400000  2.84   \n",
      "75%     2.900000    0.233000   1.000000  199.720000    0.900000  2.84   \n",
      "max     3.300000    1.414000  19.000000  355.910000    2.900000  2.84   \n",
      "\n",
      "              nst         rms         sig          time  tsunami     tz  \\\n",
      "count  681.000000  681.000000  681.000000  6.810000e+02    681.0  681.0   \n",
      "mean    12.618209    0.151986   10.970631  1.538314e+12      0.0 -480.0   \n",
      "std      9.866963    0.084662   19.607150  5.965637e+08      0.0    0.0   \n",
      "min      3.000000    0.000500    0.000000  1.537247e+12      0.0 -480.0   \n",
      "25%      6.000000    0.106900    0.000000  1.537854e+12      0.0 -480.0   \n",
      "50%     10.000000    0.146300    2.000000  1.538280e+12      0.0 -480.0   \n",
      "75%     16.000000    0.187100   12.000000  1.538821e+12      0.0 -480.0   \n",
      "max     61.000000    0.863400  129.000000  1.539461e+12      0.0 -480.0   \n",
      "\n",
      "            updated  \n",
      "count  6.810000e+02  \n",
      "mean   1.538402e+12  \n",
      "std    6.010951e+08  \n",
      "min    1.537307e+12  \n",
      "25%    1.537928e+12  \n",
      "50%    1.538428e+12  \n",
      "75%    1.538878e+12  \n",
      "max    1.539483e+12  \n"
     ]
    }
   ],
   "source": [
    "#3\n",
    "#Calculate summary statistics for earthquakes in Nevada.\n",
    "\n",
    "Nevada = df[df.parsed_place == 'Nevada']\n",
    "print(Nevada.describe())"
   ]
  },
  {
   "cell_type": "code",
   "execution_count": 4,
   "id": "a1cd2bdb",
   "metadata": {},
   "outputs": [
    {
     "name": "stdout",
     "output_type": "stream",
     "text": [
      "0        True\n",
      "1        True\n",
      "2        True\n",
      "3        True\n",
      "4        True\n",
      "        ...  \n",
      "9327     True\n",
      "9328     True\n",
      "9329    False\n",
      "9330     True\n",
      "9331     True\n",
      "Name: ringOfFire, Length: 9332, dtype: bool\n"
     ]
    }
   ],
   "source": [
    "#4\n",
    "#Add a column indicating whether the earthquake happened in a country or US state that is on the Ring of Fire. \n",
    "\n",
    "df['ringOfFire'] = df.parsed_place.str.contains(r'|'.join(['Alaska', 'Antarctic', 'Bolivia', 'California', 'Canada','Chile', 'Costa Rica', 'Ecuador', 'Fiji', 'Guatemala','Indonesia', 'Japan', 'Kermadec Islands', '^Mexico','New Zealand', 'Peru', 'Philippines', 'Russia','Taiwan', 'Tonga', 'Washington' ]))\n",
    "\n",
    "print(df['ringOfFire'])\n"
   ]
  },
  {
   "cell_type": "code",
   "execution_count": 5,
   "id": "697c33cf",
   "metadata": {},
   "outputs": [
    {
     "name": "stdout",
     "output_type": "stream",
     "text": [
      "True     7188\n",
      "False    2144\n",
      "Name: ringOfFire, dtype: int64\n"
     ]
    }
   ],
   "source": [
    "#5 \n",
    "#Calculate the number of earthquakes in the Ring of Fire locations and the number outside of them.\n",
    "\n",
    "print(df.ringOfFire.value_counts())"
   ]
  },
  {
   "cell_type": "code",
   "execution_count": 8,
   "id": "5e6426fe",
   "metadata": {},
   "outputs": [
    {
     "name": "stdout",
     "output_type": "stream",
     "text": [
      "Number of tsunamis along the Ring of Fire: 45\n"
     ]
    }
   ],
   "source": [
    "#6\n",
    "#Find the tsunami count along the Ring of Fire.\n",
    "\n",
    "\n",
    "print (f\"Number of tsunamis along the Ring of Fire: {df.loc[df.ringOfFire, 'tsunami'].sum()}\") \n",
    "\n",
    "\n"
   ]
  },
  {
   "cell_type": "code",
   "execution_count": null,
   "id": "c2d6cb89",
   "metadata": {},
   "outputs": [],
   "source": []
  }
 ],
 "metadata": {
  "kernelspec": {
   "display_name": "Python 3",
   "language": "python",
   "name": "python3"
  },
  "language_info": {
   "codemirror_mode": {
    "name": "ipython",
    "version": 3
   },
   "file_extension": ".py",
   "mimetype": "text/x-python",
   "name": "python",
   "nbconvert_exporter": "python",
   "pygments_lexer": "ipython3",
   "version": "3.9.5"
  }
 },
 "nbformat": 4,
 "nbformat_minor": 5
}
