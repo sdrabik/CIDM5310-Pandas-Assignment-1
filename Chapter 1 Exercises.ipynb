{
 "cells": [
  {
   "cell_type": "code",
   "execution_count": 1,
   "id": "15c9d1bd",
   "metadata": {},
   "outputs": [
    {
     "name": "stdout",
     "output_type": "stream",
     "text": [
      "Hello World\n"
     ]
    }
   ],
   "source": [
    "#1\n",
    "#Explore the JupyterLab interface and look at some of the shortcuts that are available. \n",
    "#Don't worry about memorizing them for now (eventually, they will become second nature and save you a lot of time)\n",
    "#just get comfortable using Jupyter Notebooks.\n",
    "\n",
    "print(\"Hello World\")"
   ]
  },
  {
   "cell_type": "markdown",
   "id": "bea14ead",
   "metadata": {},
   "source": [
    "2\n",
    "Is all data normally distributed? Explain why or why not.\n",
    "\n",
    "    No, there are many types of distributions other than the normal distribution, including the binomial, Poisson, and exponential, just new name a few. "
   ]
  },
  {
   "cell_type": "markdown",
   "id": "5c191b78",
   "metadata": {},
   "source": [
    "3\n",
    "When would it make more sense to use the median instead of the mean for the measure of center?\n",
    "\n",
    "    The mean and median are both measures of central tendency, but the mean can be affected strongly by just a few outlies.  The median is not strongly affected by outliers, and should be used in cases where outliers should not be taken into consideration. "
   ]
  },
  {
   "cell_type": "code",
   "execution_count": 2,
   "id": "31f4b638",
   "metadata": {},
   "outputs": [
    {
     "name": "stdout",
     "output_type": "stream",
     "text": [
      "done\n"
     ]
    }
   ],
   "source": [
    "#4\n",
    "#Run the code in the first cell of the exercises.ipynb notebook. \n",
    "#It will give you a list of 100 values to work with for the rest of the exercises in this chapter. \n",
    "#Be sure to treat these values as a sample of the population.\n",
    "\n",
    "import random\n",
    "\n",
    "random.seed(0)\n",
    "salaries = [round(random.random()*1000000, -3) for _ in range(100)]\n",
    "\n",
    "print(\"done\")"
   ]
  },
  {
   "cell_type": "code",
   "execution_count": 3,
   "id": "8a1052a1",
   "metadata": {},
   "outputs": [
    {
     "name": "stdout",
     "output_type": "stream",
     "text": [
      "Manual mean: 585690.0\n"
     ]
    }
   ],
   "source": [
    "#5\n",
    "#Using the data from exercise 4, calculate the following statistics without importing anything from the statistics module \n",
    "#in the standard library (https://docs.python.org/3/library/statistics.html), and then confirm your results match up to those\n",
    "#that are obtained when using the statistics module (where possible):\n",
    "#mean..................done\n",
    "#media.................done\n",
    "#mode..................done\n",
    "#sample var............done\n",
    "#sample SD.............done\n",
    "import math\n",
    "\n",
    "myMean = sum(salaries) / len(salaries)\n",
    "print (f\"Manual mean: {myMean}\")                           \n"
   ]
  },
  {
   "cell_type": "code",
   "execution_count": 4,
   "id": "c587ecc3",
   "metadata": {},
   "outputs": [
    {
     "name": "stdout",
     "output_type": "stream",
     "text": [
      "Statistics mean: 585690.0\n"
     ]
    }
   ],
   "source": [
    "from statistics import mean\n",
    "print (f\"Statistics mean: {mean(salaries)}\")          "
   ]
  },
  {
   "cell_type": "code",
   "execution_count": 5,
   "id": "6f724c05",
   "metadata": {},
   "outputs": [
    {
     "name": "stdout",
     "output_type": "stream",
     "text": [
      "Manual median:589000.0\n"
     ]
    }
   ],
   "source": [
    "salaries.sort()\n",
    "mid=(len(salaries)+1)/2-1\n",
    "if len(salaries) % 2:\n",
    "    print (f\"Manual median: {salaries[int(mid)]}\")\n",
    "else:\n",
    "    print(f\"Manual median:{(salaries[math.floor(mid)]+ salaries[math.ceil(mid)])/2}\")\n"
   ]
  },
  {
   "cell_type": "code",
   "execution_count": 6,
   "id": "fd6ea48e",
   "metadata": {},
   "outputs": [
    {
     "name": "stdout",
     "output_type": "stream",
     "text": [
      "Statistics median: 589000.0\n"
     ]
    }
   ],
   "source": [
    "from statistics import median\n",
    "print (f\"Statistics median: {median(salaries)}\")\n"
   ]
  },
  {
   "cell_type": "code",
   "execution_count": 7,
   "id": "32e1e0ea",
   "metadata": {},
   "outputs": [
    {
     "name": "stdout",
     "output_type": "stream",
     "text": [
      "Manual mode: 477000.0\n"
     ]
    }
   ],
   "source": [
    "from collections import Counter\n",
    "\n",
    "myMode =Counter(salaries).most_common(1)[0][0]\n",
    "\n",
    "print (f\"Manual mode: {myMode}\")"
   ]
  },
  {
   "cell_type": "code",
   "execution_count": 8,
   "id": "e52cd358",
   "metadata": {},
   "outputs": [
    {
     "name": "stdout",
     "output_type": "stream",
     "text": [
      "Statistics mode: 477000.0\n"
     ]
    }
   ],
   "source": [
    "from statistics import mode\n",
    "print (f\"Statistics mode: {mode(salaries)}\")\n"
   ]
  },
  {
   "cell_type": "code",
   "execution_count": 9,
   "id": "f106f804",
   "metadata": {},
   "outputs": [
    {
     "name": "stdout",
     "output_type": "stream",
     "text": [
      "Manual sample variance: 70664054444.44444\n"
     ]
    }
   ],
   "source": [
    "myVariance = sum([(count - sum(salaries) / len(salaries))**2 for count in salaries]) / (len(salaries) - 1)\n",
    "\n",
    "print (f\"Manual sample variance: {myVariance}\")"
   ]
  },
  {
   "cell_type": "code",
   "execution_count": 10,
   "id": "dfd88512",
   "metadata": {},
   "outputs": [
    {
     "name": "stdout",
     "output_type": "stream",
     "text": [
      "Statistics variance: 70664054444.44444\n"
     ]
    }
   ],
   "source": [
    "from statistics import variance\n",
    "print (f\"Statistics variance: {variance(salaries)}\")"
   ]
  },
  {
   "cell_type": "code",
   "execution_count": 11,
   "id": "384bd116",
   "metadata": {},
   "outputs": [
    {
     "name": "stdout",
     "output_type": "stream",
     "text": [
      "Manual Sample standard deviation: 265827.11382484\n"
     ]
    }
   ],
   "source": [
    "import math as m\n",
    "myStnDev = m.sqrt(sum([(x - sum(salaries) / len(salaries))**2 for x in salaries]) / (len(salaries) - 1))\n",
    "print (f\"Manual Sample standard deviation: {myStnDev}\")"
   ]
  },
  {
   "cell_type": "code",
   "execution_count": 12,
   "id": "dfe8bdf2",
   "metadata": {},
   "outputs": [
    {
     "name": "stdout",
     "output_type": "stream",
     "text": [
      "Statistics Sample standard deviation: 265827.11382484\n"
     ]
    }
   ],
   "source": [
    "from statistics import stdev\n",
    "print (f\"Statistics Sample standard deviation: {stdev(salaries)}\")"
   ]
  },
  {
   "cell_type": "code",
   "execution_count": 13,
   "id": "03e1a6ea",
   "metadata": {},
   "outputs": [
    {
     "name": "stdout",
     "output_type": "stream",
     "text": [
      "Range: 995000.0\n"
     ]
    }
   ],
   "source": [
    "#6\n",
    "#Using the data from exercise 4, calculate the following statistics using the functions in the statistics \n",
    "#module where appropriate:\n",
    "\n",
    "#range..............................done\n",
    "#Coefficient of variation...........done\n",
    "#Interquartile range................done\n",
    "#Quartile coefficient of dispersion.done\n",
    "\n",
    "\n",
    "print (f\"Range: {(max(salaries) - min(salaries))}\")\n"
   ]
  },
  {
   "cell_type": "code",
   "execution_count": 14,
   "id": "2ce1bfdf",
   "metadata": {},
   "outputs": [
    {
     "name": "stdout",
     "output_type": "stream",
     "text": [
      "Coefficient of variation: 0.45386998894439035\n"
     ]
    }
   ],
   "source": [
    "from statistics import mean\n",
    "from statistics import stdev\n",
    "\n",
    "print (f\"Coefficient of variation: {stdev(salaries) / mean(salaries)}\")\n"
   ]
  },
  {
   "cell_type": "code",
   "execution_count": 15,
   "id": "1e716f69",
   "metadata": {},
   "outputs": [
    {
     "name": "stdout",
     "output_type": "stream",
     "text": [
      "Interquartile range: 417500.0\n"
     ]
    }
   ],
   "source": [
    "import math as m\n",
    "\n",
    "\n",
    "def quant(data, q):\n",
    "    data.sort()\n",
    "    i = (len(data) + 1) * q - 1\n",
    "    if len(data) % 2:\n",
    "        return data[int(i)]\n",
    "    else:\n",
    "        return (data[m.floor(i)] + data[m.ceil(i)]) / 2\n",
    "    \n",
    "    \n",
    "\n",
    "\n",
    "print (f\"Interquartile range: {quant(salaries, 0.75) - quant(salaries, 0.25)}\")\n"
   ]
  },
  {
   "cell_type": "code",
   "execution_count": 16,
   "id": "bb07d310",
   "metadata": {},
   "outputs": [
    {
     "name": "stdout",
     "output_type": "stream",
     "text": [
      "Quartile coefficient of dispersion: 0.3417928776094965\n"
     ]
    }
   ],
   "source": [
    "InterquartileRange = quant(salaries, 0.75) - quant(salaries, 0.25)\n",
    "quant1 = quant(salaries, 0.25)\n",
    "quant2 = quant(salaries, 0.75)\n",
    "\n",
    "\n",
    "print (f\"Quartile coefficient of dispersion: {InterquartileRange / (quant1 + quant2)}\")\n"
   ]
  },
  {
   "cell_type": "code",
   "execution_count": 17,
   "id": "f0524acb",
   "metadata": {},
   "outputs": [
    {
     "name": "stdout",
     "output_type": "stream",
     "text": [
      "The Min-max scaling : [0.0, 0.01306532663316583, 0.07939698492462312, 0.0814070351758794, 0.08944723618090453, 0.10050251256281408, 0.10854271356783919, 0.18693467336683417, 0.18894472361809045, 0.19095477386934673, 0.23919597989949748, 0.2442211055276382, 0.25125628140703515, 0.2592964824120603, 0.26030150753768844, 0.27638190954773867, 0.28241206030150756, 0.2904522613065327, 0.3035175879396985, 0.31055276381909547, 0.32060301507537686, 0.3256281407035176, 0.385929648241206, 0.39195979899497485, 0.4, 0.40603015075376886, 0.4221105527638191, 0.43517587939698493, 0.4462311557788945, 0.4492462311557789, 0.45226130653266333, 0.4733668341708543, 0.47839195979899496, 0.47839195979899496, 0.47839195979899496, 0.48743718592964824, 0.49547738693467336, 0.5065326633165829, 0.5095477386934674, 0.5125628140703518, 0.5417085427135678, 0.542713567839196, 0.5487437185929648, 0.5507537688442211, 0.5527638190954773, 0.5698492462311557, 0.5778894472361809, 0.5819095477386935, 0.5849246231155779, 0.5899497487437186, 0.5919597989949749, 0.5979899497487438, 0.6050251256281407, 0.6130653266331658, 0.6150753768844222, 0.6150753768844222, 0.6201005025125628, 0.6592964824120603, 0.6623115577889447, 0.6703517587939698, 0.6864321608040201, 0.7075376884422111, 0.7095477386934673, 0.7226130653266332, 0.7326633165829146, 0.7587939698492462, 0.7608040201005025, 0.7608040201005025, 0.7869346733668342, 0.7959798994974875, 0.8060301507537688, 0.8080402010050252, 0.8130653266331658, 0.8150753768844221, 0.8170854271356784, 0.828140703517588, 0.8452261306532663, 0.8472361809045226, 0.8522613065326633, 0.8683417085427135, 0.871356783919598, 0.8733668341708543, 0.8804020100502512, 0.8984924623115578, 0.9015075376884422, 0.9025125628140703, 0.9055276381909547, 0.9115577889447236, 0.91356783919598, 0.9165829145728643, 0.9206030150753769, 0.9266331658291457, 0.9266331658291457, 0.9366834170854271, 0.9537688442211055, 0.9678391959798995, 0.9708542713567839, 0.9718592964824121, 0.9869346733668342, 1.0]\n"
     ]
    }
   ],
   "source": [
    "#7\n",
    "#Scale the data created in exercise 4 using the following strategies\\\n",
    "# Min-max scaling (normalizing)\n",
    "# Standardizing\n",
    "\n",
    "myMin = min(salaries)\n",
    "myMax = max(salaries)\n",
    "myRange = myMax - myMin\n",
    "\n",
    "scaling = [(each - myMin) / myRange for each in salaries] \n",
    "\n",
    "print (f\"The Min-max scaling : {scaling}\")\n"
   ]
  },
  {
   "cell_type": "code",
   "execution_count": 18,
   "id": "9e32b8fc",
   "metadata": {},
   "outputs": [
    {
     "name": "stdout",
     "output_type": "stream",
     "text": [
      "Standardizing : [-2.199512275430514, -2.150608309943509, -1.9023266390094862, -1.8948029520114855, -1.8647082040194827, -1.8233279255304788, -1.7932331775384762, -1.4998093846164489, -1.4922856976184482, -1.4847620106204475, -1.304193522668431, -1.285384305173429, -1.2590514006804265, -1.228956652688424, -1.2251948091894236, -1.165005313205418, -1.142434252211416, -1.112339504219413, -1.0634355387324086, -1.037102634239406, -0.9994841992494026, -0.9806749817544008, -0.7549643718143799, -0.7323933108203778, -0.7022985628283751, -0.6797275018343729, -0.6195380058503674, -0.5706340403633628, -0.529253761874359, -0.517968231377358, -0.5066827008803569, -0.4276839874013496, -0.40887476990634786, -0.40887476990634786, -0.40887476990634786, -0.37501817841534474, -0.34492343042334195, -0.3035431519343381, -0.2922576214373371, -0.28097209094033604, -0.17187862946932592, -0.16811678597032556, -0.14554572497632348, -0.1380220379783228, -0.1304983509803221, -0.06654701149731616, -0.03645226350531338, -0.02140488950931198, -0.010119359012310937, 0.008689858482690806, 0.016213545480691503, 0.038784606474693596, 0.06511751096769604, 0.09521225895969881, 0.10273594595769951, 0.10273594595769951, 0.12154516345270126, 0.26825705991371485, 0.2795425904107159, 0.3096373384027187, 0.36982683438672426, 0.4488255478657316, 0.4563492348637323, 0.5052532003507368, 0.5428716353407403, 0.6406795663147493, 0.6482032533127501, 0.6482032533127501, 0.7460111842867592, 0.7798677757777622, 0.8174862107677657, 0.8250098977657664, 0.8438191152607681, 0.8513428022587689, 0.8588664892567696, 0.9002467677457734, 0.9641981072287793, 0.9717217942267801, 0.9905310117217818, 1.0507205077057873, 1.0620060382027885, 1.0695297252007891, 1.0958626296937914, 1.1635758126757978, 1.1748613431727988, 1.178623186671799, 1.1899087171688003, 1.2124797781628023, 1.220003465160803, 1.2312889956578041, 1.2463363696538055, 1.2689074306478076, 1.2689074306478076, 1.3065258656378111, 1.370477205120817, 1.4231430141068218, 1.434428544603823, 1.4381903881028233, 1.4946180405878284, 1.543522006074833]\n"
     ]
    }
   ],
   "source": [
    "from statistics import mean\n",
    "from statistics import stdev\n",
    "\n",
    "myMean = mean(salaries)\n",
    "myStDev = stdev(salaries)\n",
    "\n",
    "myStand =  [(each - myMean) / myStDev for each in salaries]\n",
    "\n",
    "print (f\"Standardizing : {myStand}\")\n"
   ]
  },
  {
   "cell_type": "code",
   "execution_count": 19,
   "id": "639b9817",
   "metadata": {},
   "outputs": [
    {
     "name": "stdout",
     "output_type": "stream",
     "text": [
      "covariance : 0.26449129918250414\n"
     ]
    }
   ],
   "source": [
    "#8\n",
    "#Using the scaled data from exercise 7, calculate the following\n",
    "#The covariance between the standardized and normalized data\n",
    "#The Pearson correlation coefficient between the standardized and normalized data\n",
    "\n",
    "from statistics import mean\n",
    "\n",
    "data = [\n",
    "    (x - mean(scaling)) * (y - mean(myStand))\n",
    "    for x, y in zip(scaling, myStand)\n",
    "]\n",
    "\n",
    "print (f\"covariance : {mean(data)}\")\n"
   ]
  },
  {
   "cell_type": "code",
   "execution_count": 20,
   "id": "0cd00423",
   "metadata": {},
   "outputs": [
    {
     "name": "stdout",
     "output_type": "stream",
     "text": [
      "Pearson : 0.9900000000000001\n"
     ]
    }
   ],
   "source": [
    "from statistics import stdev\n",
    "\n",
    "myPearson = (mean(data)) / (stdev(scaling) * stdev(myStand))\n",
    "\n",
    "print (f\"Pearson : {myPearson}\")"
   ]
  },
  {
   "cell_type": "code",
   "execution_count": null,
   "id": "a4d608a1",
   "metadata": {},
   "outputs": [],
   "source": []
  }
 ],
 "metadata": {
  "kernelspec": {
   "display_name": "Python 3",
   "language": "python",
   "name": "python3"
  },
  "language_info": {
   "codemirror_mode": {
    "name": "ipython",
    "version": 3
   },
   "file_extension": ".py",
   "mimetype": "text/x-python",
   "name": "python",
   "nbconvert_exporter": "python",
   "pygments_lexer": "ipython3",
   "version": "3.9.5"
  }
 },
 "nbformat": 4,
 "nbformat_minor": 5
}
